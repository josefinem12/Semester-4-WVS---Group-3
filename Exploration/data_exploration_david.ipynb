{
 "cells": [
  {
   "cell_type": "markdown",
   "metadata": {},
   "source": [
    "# Data Exploration for the Values Data Set\n",
    "David Liebmann"
   ]
  },
  {
   "cell_type": "code",
   "execution_count": 1,
   "metadata": {},
   "outputs": [],
   "source": [
    "# Importing the necessary libraries\n",
    "import numpy as np\n",
    "import pandas as pd"
   ]
  },
  {
   "cell_type": "code",
   "execution_count": 2,
   "metadata": {},
   "outputs": [
    {
     "data": {
      "text/html": [
       "<div>\n",
       "<style scoped>\n",
       "    .dataframe tbody tr th:only-of-type {\n",
       "        vertical-align: middle;\n",
       "    }\n",
       "\n",
       "    .dataframe tbody tr th {\n",
       "        vertical-align: top;\n",
       "    }\n",
       "\n",
       "    .dataframe thead th {\n",
       "        text-align: right;\n",
       "    }\n",
       "</style>\n",
       "<table border=\"1\" class=\"dataframe\">\n",
       "  <thead>\n",
       "    <tr style=\"text-align: right;\">\n",
       "      <th></th>\n",
       "      <th>version</th>\n",
       "      <th>doi</th>\n",
       "      <th>S001</th>\n",
       "      <th>S002VS</th>\n",
       "      <th>S003</th>\n",
       "      <th>COUNTRY_ALPHA</th>\n",
       "      <th>COW_NUM</th>\n",
       "      <th>COW_ALPHA</th>\n",
       "      <th>S004</th>\n",
       "      <th>S006</th>\n",
       "      <th>...</th>\n",
       "      <th>Y023A</th>\n",
       "      <th>Y023B</th>\n",
       "      <th>Y023C</th>\n",
       "      <th>Y024A</th>\n",
       "      <th>Y024B</th>\n",
       "      <th>Y024C</th>\n",
       "      <th>survself</th>\n",
       "      <th>tradrat5</th>\n",
       "      <th>TradAgg</th>\n",
       "      <th>SurvSAgg</th>\n",
       "    </tr>\n",
       "  </thead>\n",
       "  <tbody>\n",
       "    <tr>\n",
       "      <th>0</th>\n",
       "      <td>5-0-0 (2024-04-30)</td>\n",
       "      <td>doi.org/10.14281/18241.25</td>\n",
       "      <td>2</td>\n",
       "      <td>3</td>\n",
       "      <td>8</td>\n",
       "      <td>ALB</td>\n",
       "      <td>339</td>\n",
       "      <td>ALB</td>\n",
       "      <td>1</td>\n",
       "      <td>1</td>\n",
       "      <td>...</td>\n",
       "      <td>0.000000</td>\n",
       "      <td>0.444444</td>\n",
       "      <td>0.444444</td>\n",
       "      <td>0.33</td>\n",
       "      <td>0.0</td>\n",
       "      <td>0.165</td>\n",
       "      <td>-1.011276</td>\n",
       "      <td>0.160847</td>\n",
       "      <td>0.158964</td>\n",
       "      <td>-1.792410</td>\n",
       "    </tr>\n",
       "    <tr>\n",
       "      <th>1</th>\n",
       "      <td>5-0-0 (2024-04-30)</td>\n",
       "      <td>doi.org/10.14281/18241.25</td>\n",
       "      <td>2</td>\n",
       "      <td>3</td>\n",
       "      <td>8</td>\n",
       "      <td>ALB</td>\n",
       "      <td>339</td>\n",
       "      <td>ALB</td>\n",
       "      <td>1</td>\n",
       "      <td>2</td>\n",
       "      <td>...</td>\n",
       "      <td>0.111111</td>\n",
       "      <td>0.444444</td>\n",
       "      <td>0.444444</td>\n",
       "      <td>0.33</td>\n",
       "      <td>0.0</td>\n",
       "      <td>0.165</td>\n",
       "      <td>-0.688773</td>\n",
       "      <td>0.409283</td>\n",
       "      <td>0.558946</td>\n",
       "      <td>-1.208679</td>\n",
       "    </tr>\n",
       "    <tr>\n",
       "      <th>2</th>\n",
       "      <td>5-0-0 (2024-04-30)</td>\n",
       "      <td>doi.org/10.14281/18241.25</td>\n",
       "      <td>2</td>\n",
       "      <td>3</td>\n",
       "      <td>8</td>\n",
       "      <td>ALB</td>\n",
       "      <td>339</td>\n",
       "      <td>ALB</td>\n",
       "      <td>1</td>\n",
       "      <td>3</td>\n",
       "      <td>...</td>\n",
       "      <td>0.000000</td>\n",
       "      <td>0.444444</td>\n",
       "      <td>0.444444</td>\n",
       "      <td>0.33</td>\n",
       "      <td>0.5</td>\n",
       "      <td>0.415</td>\n",
       "      <td>NaN</td>\n",
       "      <td>NaN</td>\n",
       "      <td>NaN</td>\n",
       "      <td>NaN</td>\n",
       "    </tr>\n",
       "    <tr>\n",
       "      <th>3</th>\n",
       "      <td>5-0-0 (2024-04-30)</td>\n",
       "      <td>doi.org/10.14281/18241.25</td>\n",
       "      <td>2</td>\n",
       "      <td>3</td>\n",
       "      <td>8</td>\n",
       "      <td>ALB</td>\n",
       "      <td>339</td>\n",
       "      <td>ALB</td>\n",
       "      <td>1</td>\n",
       "      <td>4</td>\n",
       "      <td>...</td>\n",
       "      <td>0.000000</td>\n",
       "      <td>0.333333</td>\n",
       "      <td>0.333333</td>\n",
       "      <td>0.33</td>\n",
       "      <td>0.0</td>\n",
       "      <td>0.165</td>\n",
       "      <td>-1.319863</td>\n",
       "      <td>0.733956</td>\n",
       "      <td>1.081669</td>\n",
       "      <td>-2.350952</td>\n",
       "    </tr>\n",
       "    <tr>\n",
       "      <th>4</th>\n",
       "      <td>5-0-0 (2024-04-30)</td>\n",
       "      <td>doi.org/10.14281/18241.25</td>\n",
       "      <td>2</td>\n",
       "      <td>3</td>\n",
       "      <td>8</td>\n",
       "      <td>ALB</td>\n",
       "      <td>339</td>\n",
       "      <td>ALB</td>\n",
       "      <td>1</td>\n",
       "      <td>5</td>\n",
       "      <td>...</td>\n",
       "      <td>0.000000</td>\n",
       "      <td>0.333333</td>\n",
       "      <td>0.333333</td>\n",
       "      <td>0.00</td>\n",
       "      <td>0.5</td>\n",
       "      <td>0.250</td>\n",
       "      <td>NaN</td>\n",
       "      <td>NaN</td>\n",
       "      <td>NaN</td>\n",
       "      <td>NaN</td>\n",
       "    </tr>\n",
       "  </tbody>\n",
       "</table>\n",
       "<p>5 rows × 1046 columns</p>\n",
       "</div>"
      ],
      "text/plain": [
       "              version                        doi  S001  S002VS  S003  \\\n",
       "0  5-0-0 (2024-04-30)  doi.org/10.14281/18241.25     2       3     8   \n",
       "1  5-0-0 (2024-04-30)  doi.org/10.14281/18241.25     2       3     8   \n",
       "2  5-0-0 (2024-04-30)  doi.org/10.14281/18241.25     2       3     8   \n",
       "3  5-0-0 (2024-04-30)  doi.org/10.14281/18241.25     2       3     8   \n",
       "4  5-0-0 (2024-04-30)  doi.org/10.14281/18241.25     2       3     8   \n",
       "\n",
       "  COUNTRY_ALPHA  COW_NUM COW_ALPHA  S004  S006  ...     Y023A     Y023B  \\\n",
       "0           ALB      339       ALB     1     1  ...  0.000000  0.444444   \n",
       "1           ALB      339       ALB     1     2  ...  0.111111  0.444444   \n",
       "2           ALB      339       ALB     1     3  ...  0.000000  0.444444   \n",
       "3           ALB      339       ALB     1     4  ...  0.000000  0.333333   \n",
       "4           ALB      339       ALB     1     5  ...  0.000000  0.333333   \n",
       "\n",
       "      Y023C  Y024A  Y024B  Y024C  survself  tradrat5   TradAgg  SurvSAgg  \n",
       "0  0.444444   0.33    0.0  0.165 -1.011276  0.160847  0.158964 -1.792410  \n",
       "1  0.444444   0.33    0.0  0.165 -0.688773  0.409283  0.558946 -1.208679  \n",
       "2  0.444444   0.33    0.5  0.415       NaN       NaN       NaN       NaN  \n",
       "3  0.333333   0.33    0.0  0.165 -1.319863  0.733956  1.081669 -2.350952  \n",
       "4  0.333333   0.00    0.5  0.250       NaN       NaN       NaN       NaN  \n",
       "\n",
       "[5 rows x 1046 columns]"
      ]
     },
     "execution_count": 2,
     "metadata": {},
     "output_type": "execute_result"
    }
   ],
   "source": [
    "values_df = pd.read_csv('/Users/davidliebmann/Library/CloudStorage/OneDrive-UvA/Semester 4/Structures/Group Work/coding/data/WVS_Time_Series_1981-2022_csv_v5_0.csv')\n",
    "values_df.head()"
   ]
  },
  {
   "cell_type": "code",
   "execution_count": 3,
   "metadata": {},
   "outputs": [
    {
     "name": "stdout",
     "output_type": "stream",
     "text": [
      "<class 'pandas.core.frame.DataFrame'>\n",
      "RangeIndex: 443488 entries, 0 to 443487\n",
      "Columns: 1046 entries, version to SurvSAgg\n",
      "dtypes: float64(42), int64(1000), object(4)\n",
      "memory usage: 3.5+ GB\n"
     ]
    }
   ],
   "source": [
    "values_df.info()"
   ]
  },
  {
   "cell_type": "code",
   "execution_count": 4,
   "metadata": {},
   "outputs": [
    {
     "name": "stdout",
     "output_type": "stream",
     "text": [
      "Index(['version', 'doi', 'S001', 'S002VS', 'S003', 'COUNTRY_ALPHA', 'COW_NUM',\n",
      "       'COW_ALPHA', 'S004', 'S006',\n",
      "       ...\n",
      "       'Y023A', 'Y023B', 'Y023C', 'Y024A', 'Y024B', 'Y024C', 'survself',\n",
      "       'tradrat5', 'TradAgg', 'SurvSAgg'],\n",
      "      dtype='object', length=1046)\n"
     ]
    }
   ],
   "source": [
    "print(values_df.columns)"
   ]
  },
  {
   "cell_type": "code",
   "execution_count": 5,
   "metadata": {},
   "outputs": [
    {
     "name": "stdout",
     "output_type": "stream",
     "text": [
      "ZAF    16786\n",
      "IND    14313\n",
      "COL    12082\n",
      "MEX    11714\n",
      "TUR    11704\n",
      "       ...  \n",
      "FRA     1001\n",
      "PSE     1000\n",
      "YEM     1000\n",
      "NIR      447\n",
      "DOM      417\n",
      "Name: COUNTRY_ALPHA, Length: 108, dtype: int64\n"
     ]
    }
   ],
   "source": [
    "country_counts = values_df['COUNTRY_ALPHA'].value_counts()\n",
    "print(country_counts)"
   ]
  }
 ],
 "metadata": {
  "kernelspec": {
   "display_name": "base",
   "language": "python",
   "name": "python3"
  },
  "language_info": {
   "codemirror_mode": {
    "name": "ipython",
    "version": 3
   },
   "file_extension": ".py",
   "mimetype": "text/x-python",
   "name": "python",
   "nbconvert_exporter": "python",
   "pygments_lexer": "ipython3",
   "version": "3.11.4"
  }
 },
 "nbformat": 4,
 "nbformat_minor": 2
}
